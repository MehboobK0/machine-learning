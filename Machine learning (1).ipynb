{
 "cells": [
  {
   "cell_type": "code",
   "execution_count": 5,
   "id": "17a8b04c",
   "metadata": {},
   "outputs": [],
   "source": [
    "# Q1: Explain the following with an example:\n",
    "\n",
    "# C) Artificial Intelligence\n",
    "# I) Machine Learning\n",
    "# D) Deep Learning\n",
    "\n",
    "# Example:\n",
    "\n",
    "# C) Artificial Intelligence (AI) is the simulation of human intelligence processes by machines, especially computer systems. An example of AI is a virtual assistant like Siri or Alexa, which can understand natural language and perform tasks based on user commands.\n",
    "\n",
    "# I) Machine Learning (ML) is a subset of AI that enables machines to learn from data and improve their performance over time without being explicitly programmed. An example of machine learning is a spam email filter that learns to classify emails as spam or not spam based on user feedback and patterns in the data.\n",
    "\n",
    "# D) Deep Learning (DL) is a subfield of machine learning that uses artificial neural networks with multiple layers to model and understand complex patterns in large datasets. An example of deep learning is image recognition software that can accurately identify objects in photographs by analyzing pixel patterns and features at multiple levels of abstraction."
   ]
  },
  {
   "cell_type": "markdown",
   "id": "964f7f16",
   "metadata": {},
   "source": [
    "Q2: What is supervised learning? List some examples of supervised learning.\n",
    "\n",
    "Supervised learning is a type of machine learning where the model is trained on a labeled dataset, meaning that each input data point is paired with the correct output. The goal is to learn a mapping from inputs to outputs based on the provided examples.\n",
    "\n",
    "Examples of supervised learning:\n",
    "\n",
    "Email spam classification\n",
    "Handwritten digit recognition\n",
    "Predicting house prices based on features like size, location, and number of bedrooms\n",
    "Language translation\n",
    "Medical diagnosis based on patient symptoms"
   ]
  },
  {
   "cell_type": "code",
   "execution_count": 4,
   "id": "f29558f1",
   "metadata": {},
   "outputs": [],
   "source": [
    "# Q3: What is unsupervised learning? List some examples of unsupervised learning.\n",
    "\n",
    "# Unsupervised learning is a type of machine learning where the model is trained on an unlabeled dataset, meaning that the algorithm learns to find patterns and structures in the data without explicit guidance. The goal is to discover the underlying structure or distribution of the data.\n",
    "\n",
    "# Examples of unsupervised learning:\n",
    "\n",
    "# Clustering similar documents or articles\n",
    "# Market basket analysis to identify associations between products\n",
    "# Dimensionality reduction techniques like principal component analysis (PCA)\n",
    "# Anomaly detection in network traffic or manufacturing processes\n",
    "# Recommender systems for personalized product recommendations"
   ]
  },
  {
   "cell_type": "code",
   "execution_count": 3,
   "id": "7571b8ce",
   "metadata": {},
   "outputs": [],
   "source": [
    "# Q4: What is the difference between AI, ML, DL, and DS?\n",
    "\n",
    "# AI (Artificial Intelligence) is the overarching field focused on creating systems that can simulate human intelligence processes. ML (Machine Learning) is a subset of AI that enables machines to learn from data without being explicitly programmed. DL (Deep Learning) is a subfield of ML that uses artificial neural networks with multiple layers to model complex patterns in data. DS (Data Science) is a broader field that encompasses AI, ML, DL, and other techniques for extracting insights and knowledge from data."
   ]
  },
  {
   "cell_type": "markdown",
   "id": "f2f67f76",
   "metadata": {},
   "source": [
    "Q5: What are the main differences between supervised, unsupervised, and semi-supervised learning?\n",
    "\n",
    "Supervised learning uses labeled data, while unsupervised learning uses unlabeled data.\n",
    "In supervised learning, the model learns from input-output pairs, while in unsupervised learning, the model learns to find patterns in the input data without explicit output labels.\n",
    "Semi-supervised learning combines elements of both supervised and unsupervised learning by using a small amount of labeled data and a larger amount of unlabeled data for training."
   ]
  },
  {
   "cell_type": "markdown",
   "id": "523919d0",
   "metadata": {},
   "source": [
    "Q6: What is train, test, and validation split? Explain the importance of each term.\n",
    "\n",
    "Train, test, and validation split is a common practice in machine learning where the dataset is divided into three subsets:\n",
    "Training set: Used to train the model.\n",
    "Test set: Used to evaluate the model's performance and generalization to unseen data.\n",
    "Validation set: Optionally used during the training process to tune hyperparameters and prevent overfitting.\n",
    "The importance of each term:\n",
    "\n",
    "Training set: Used to fit the model's parameters and learn patterns from the data.\n",
    "Test set: Used to assess the model's performance on unseen data and estimate its generalization ability.\n",
    "Validation set: Used to fine-tune the model's hyperparameters and prevent overfitting by providing an independent dataset for model evaluation during training."
   ]
  },
  {
   "cell_type": "code",
   "execution_count": null,
   "id": "577cbe4d",
   "metadata": {},
   "outputs": [],
   "source": []
  }
 ],
 "metadata": {
  "kernelspec": {
   "display_name": "Python 3 (ipykernel)",
   "language": "python",
   "name": "python3"
  },
  "language_info": {
   "codemirror_mode": {
    "name": "ipython",
    "version": 3
   },
   "file_extension": ".py",
   "mimetype": "text/x-python",
   "name": "python",
   "nbconvert_exporter": "python",
   "pygments_lexer": "ipython3",
   "version": "3.9.12"
  }
 },
 "nbformat": 4,
 "nbformat_minor": 5
}
